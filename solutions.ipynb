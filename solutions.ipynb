{
 "cells": [
  {
   "cell_type": "code",
   "execution_count": 32,
   "id": "31782d25",
   "metadata": {},
   "outputs": [],
   "source": [
    "import numpy as np"
   ]
  },
  {
   "cell_type": "code",
   "execution_count": 34,
   "id": "8f1b8a38",
   "metadata": {},
   "outputs": [],
   "source": [
    "def read_txt(file_name):\n",
    "    out = []\n",
    "    v = []\n",
    "    for x in open(file_name, 'r').readlines():\n",
    "        n = x.split('\\n')[0]\n",
    "        if len(n) == 0:\n",
    "            out.append(v)\n",
    "            v = []\n",
    "        else:\n",
    "            v.append(int(n))\n",
    "    return out"
   ]
  },
  {
   "cell_type": "code",
   "execution_count": 63,
   "id": "e77261cd",
   "metadata": {},
   "outputs": [
    {
     "name": "stdout",
     "output_type": "stream",
     "text": [
      "70698 206643\n"
     ]
    }
   ],
   "source": [
    "q1input = read_txt('q1input.txt')\n",
    "a = 0\n",
    "b = [0,0,0]\n",
    "for x in q1input:\n",
    "    n = np.sum(x)\n",
    "    a = np.max((a, n))\n",
    "    for m in range(3):\n",
    "        if n >= b[m]:\n",
    "            b.insert(m, n)\n",
    "            b.pop(3)\n",
    "            break\n",
    "print(a, np.sum(b))"
   ]
  },
  {
   "cell_type": "code",
   "execution_count": null,
   "id": "ba913647",
   "metadata": {},
   "outputs": [],
   "source": []
  }
 ],
 "metadata": {
  "kernelspec": {
   "display_name": "Python 3 (ipykernel)",
   "language": "python",
   "name": "python3"
  },
  "language_info": {
   "codemirror_mode": {
    "name": "ipython",
    "version": 3
   },
   "file_extension": ".py",
   "mimetype": "text/x-python",
   "name": "python",
   "nbconvert_exporter": "python",
   "pygments_lexer": "ipython3",
   "version": "3.9.13"
  }
 },
 "nbformat": 4,
 "nbformat_minor": 5
}
