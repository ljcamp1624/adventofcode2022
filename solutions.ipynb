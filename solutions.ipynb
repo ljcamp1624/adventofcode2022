{
 "cells": [
  {
   "cell_type": "code",
   "execution_count": 32,
   "id": "df77ec22",
   "metadata": {},
   "outputs": [],
   "source": [
    "import numpy as np"
   ]
  },
  {
   "cell_type": "code",
   "execution_count": 75,
   "id": "2a1e7815",
   "metadata": {},
   "outputs": [],
   "source": [
    "def read_txt(file_name):\n",
    "    out = []\n",
    "    v = []\n",
    "    for x in open(file_name, 'r').readlines():\n",
    "        n = x.split('\\n')[0]\n",
    "        if len(n) == 0:\n",
    "            out.append(v)\n",
    "            v = []\n",
    "        else:\n",
    "            v.append(n)\n",
    "    out.append(v)\n",
    "    return out"
   ]
  },
  {
   "cell_type": "code",
   "execution_count": 165,
   "id": "e737978e",
   "metadata": {},
   "outputs": [
    {
     "name": "stdout",
     "output_type": "stream",
     "text": [
      "70698 206643\n"
     ]
    }
   ],
   "source": [
    "q1input = read_txt('q1input.txt')\n",
    "a = 0\n",
    "b = [0,0,0]\n",
    "for x in q1input:\n",
    "    n = np.sum([int(y) for y in x])\n",
    "    a = np.max((a, n))\n",
    "    for m in range(3):\n",
    "        if n >= b[m]:\n",
    "            b.insert(m, n)\n",
    "            b.pop(3)\n",
    "            break\n",
    "print(a, np.sum(b))"
   ]
  },
  {
   "cell_type": "code",
   "execution_count": 116,
   "id": "b353acb8",
   "metadata": {},
   "outputs": [
    {
     "name": "stdout",
     "output_type": "stream",
     "text": [
      "13484 13433\n"
     ]
    }
   ],
   "source": [
    "def get_score(s):\n",
    "    if s in ['A','X']:\n",
    "        return 1\n",
    "    elif s in ['B','Y']:\n",
    "        return 2\n",
    "    elif s in ['C','Z']:\n",
    "        return 3\n",
    "    \n",
    "def get_score2(s):\n",
    "    if s in ['X']:\n",
    "        return 0\n",
    "    elif s in ['Y']:\n",
    "        return 3\n",
    "    elif s in ['Z']:\n",
    "        return 6\n",
    "\n",
    "def resolve_game(s1, s2):\n",
    "    if s1 == s2:\n",
    "        return 3\n",
    "    elif np.mod(s2,3) == np.mod(s1+1,3):\n",
    "        return 6\n",
    "    elif np.mod(s2,3) == np.mod(s1-1,3):\n",
    "        return 0\n",
    "    \n",
    "def invert_game(s1, outcome):\n",
    "    if outcome == 6:\n",
    "        return np.mod(s1,3)+1\n",
    "    elif outcome == 3:\n",
    "        return s1\n",
    "    elif outcome == 0:\n",
    "        return np.mod(np.mod(s1,3)+1,3)+1\n",
    "    \n",
    "q2input = read_txt('q2input.txt')[0]\n",
    "a = 0\n",
    "b = 0\n",
    "for x in q2input:\n",
    "    them = get_score(x[0])\n",
    "    you = get_score(x[2])\n",
    "    outcome = resolve_game(them, you)\n",
    "    a += you + outcome\n",
    "    \n",
    "    outcome2 = get_score2(x[2])\n",
    "    you2 = invert_game(them, outcome2)\n",
    "    b += you2 + outcome2\n",
    "print(a, b)"
   ]
  },
  {
   "cell_type": "code",
   "execution_count": 167,
   "id": "c30bbc4a",
   "metadata": {},
   "outputs": [
    {
     "name": "stdout",
     "output_type": "stream",
     "text": [
      "7824 2798\n"
     ]
    }
   ],
   "source": [
    "def matching_letter(s1, s2):\n",
    "    s = []\n",
    "    for i in s1:\n",
    "        for j in s2:\n",
    "            if i==j:\n",
    "                s.append(i)\n",
    "    return s\n",
    "\n",
    "def get_priority(s):\n",
    "    if ord(s) in range(65,91): # upper case letters\n",
    "        return int(ord(s))-65+27\n",
    "    elif ord(s) in range(97,123): # lower case letters\n",
    "        return int(ord(s))-97+1\n",
    "    \n",
    "q3input = read_txt('q3input.txt')[0]\n",
    "a = 0\n",
    "b = 0\n",
    "for x, i in zip(q3input, range(len(q3input))):\n",
    "    s1 = x[:int(len(x)/2)]\n",
    "    s2 = x[int(len(x)/2):]\n",
    "    a += get_priority(matching_letter(s1,s2)[0])\n",
    "    if np.mod(i,3) == 2:\n",
    "        s1 = q3input[i]\n",
    "        s2 = q3input[i-1]\n",
    "        s3 = q3input[i-2]\n",
    "        b += get_priority(matching_letter(matching_letter(s1,s2),s3)[0])\n",
    "print(a, b)"
   ]
  },
  {
   "cell_type": "code",
   "execution_count": 208,
   "id": "a10bfed9",
   "metadata": {},
   "outputs": [
    {
     "name": "stdout",
     "output_type": "stream",
     "text": [
      "524 798\n"
     ]
    }
   ],
   "source": [
    "q4input = read_txt('q4input.txt')[0]\n",
    "a = 0\n",
    "b = 0\n",
    "for x in q4input:\n",
    "    vals = [[int(n) for n in s.split('-')] for s in x.split(',')]\n",
    "    s1 = set(range(vals[0][0], vals[0][1] + 1))\n",
    "    s2 = set(range(vals[1][0], vals[1][1] + 1))\n",
    "    a += (s1.issubset(s2) | s2.issubset(s1))\n",
    "    b += (len(s1 & s2) > 0)\n",
    "print(a, b)"
   ]
  },
  {
   "cell_type": "code",
   "execution_count": null,
   "id": "96bf8da3",
   "metadata": {},
   "outputs": [],
   "source": []
  },
  {
   "cell_type": "code",
   "execution_count": null,
   "id": "321e546d",
   "metadata": {},
   "outputs": [],
   "source": []
  },
  {
   "cell_type": "code",
   "execution_count": null,
   "id": "569fa9ae",
   "metadata": {},
   "outputs": [],
   "source": []
  },
  {
   "cell_type": "code",
   "execution_count": null,
   "id": "12a527f8",
   "metadata": {},
   "outputs": [],
   "source": []
  }
 ],
 "metadata": {
  "kernelspec": {
   "display_name": "Python 3 (ipykernel)",
   "language": "python",
   "name": "python3"
  },
  "language_info": {
   "codemirror_mode": {
    "name": "ipython",
    "version": 3
   },
   "file_extension": ".py",
   "mimetype": "text/x-python",
   "name": "python",
   "nbconvert_exporter": "python",
   "pygments_lexer": "ipython3",
   "version": "3.9.13"
  }
 },
 "nbformat": 4,
 "nbformat_minor": 5
}
