{
 "cells": [
  {
   "cell_type": "code",
   "execution_count": 32,
   "id": "56b9b3bf",
   "metadata": {},
   "outputs": [],
   "source": [
    "import numpy as np"
   ]
  },
  {
   "cell_type": "code",
   "execution_count": 75,
   "id": "45a9fd77",
   "metadata": {},
   "outputs": [],
   "source": [
    "def read_txt(file_name):\n",
    "    out = []\n",
    "    v = []\n",
    "    for x in open(file_name, 'r').readlines():\n",
    "        n = x.split('\\n')[0]\n",
    "        if len(n) == 0:\n",
    "            out.append(v)\n",
    "            v = []\n",
    "        else:\n",
    "            v.append(n)\n",
    "    out.append(v)\n",
    "    return out"
   ]
  },
  {
   "cell_type": "code",
   "execution_count": 91,
   "id": "c265a4c7",
   "metadata": {},
   "outputs": [
    {
     "name": "stdout",
     "output_type": "stream",
     "text": [
      "70698 [70698, 69773, 66172] 206643\n"
     ]
    }
   ],
   "source": [
    "q1input = read_txt('q1input.txt')\n",
    "a = 0\n",
    "b = [0,0,0]\n",
    "for x in q1input:\n",
    "    n = np.sum([int(y) for y in x])\n",
    "    a = np.max((a, n))\n",
    "    for m in range(3):\n",
    "        if n >= b[m]:\n",
    "            b.insert(m, n)\n",
    "            b.pop(3)\n",
    "            break\n",
    "print(a, np.sum(b))"
   ]
  },
  {
   "cell_type": "code",
   "execution_count": 114,
   "id": "3c6244e7",
   "metadata": {},
   "outputs": [
    {
     "name": "stdout",
     "output_type": "stream",
     "text": [
      "13484 13433\n"
     ]
    }
   ],
   "source": [
    "def get_score(s):\n",
    "    if s in ['A','X']:\n",
    "        return 1\n",
    "    elif s in ['B','Y']:\n",
    "        return 2\n",
    "    elif s in ['C','Z']:\n",
    "        return 3\n",
    "    \n",
    "def get_score2(s):\n",
    "    if s in ['X']:\n",
    "        return 0\n",
    "    elif s in ['Y']:\n",
    "        return 3\n",
    "    elif s in ['Z']:\n",
    "        return 6\n",
    "\n",
    "def resolve_game(s1, s2):\n",
    "    if s1 == s2:\n",
    "        return 3\n",
    "    elif np.mod(s2,3) == np.mod(s1+1,3):\n",
    "        return 6\n",
    "    elif np.mod(s2,3) == np.mod(s1-1,3):\n",
    "        return 0\n",
    "    \n",
    "def invert_game(s1, outcome):\n",
    "    if outcome == 6:\n",
    "        return np.mod(s1,3)+1\n",
    "    elif outcome == 3:\n",
    "        return s1\n",
    "    elif outcome == 0:\n",
    "        return np.mod(np.mod(s1,3)+1,3)+1\n",
    "    \n",
    "q2input = read_txt('q2input.txt')[0]\n",
    "a = 0\n",
    "b = 0\n",
    "for x in ['A Y', 'B X', 'C Z']:#q2input:\n",
    "    them = get_score(x[0])\n",
    "    you = get_score(x[2])\n",
    "    outcome = resolve_game(them, you)\n",
    "    a += you + outcome\n",
    "    \n",
    "    outcome2 = get_score2(x[2])\n",
    "    you2 = invert_game(them, outcome2)\n",
    "    b += you2 + outcome2\n",
    "print(a, b)\n"
   ]
  },
  {
   "cell_type": "code",
   "execution_count": null,
   "id": "1e554b34",
   "metadata": {},
   "outputs": [],
   "source": []
  }
 ],
 "metadata": {
  "kernelspec": {
   "display_name": "Python 3 (ipykernel)",
   "language": "python",
   "name": "python3"
  },
  "language_info": {
   "codemirror_mode": {
    "name": "ipython",
    "version": 3
   },
   "file_extension": ".py",
   "mimetype": "text/x-python",
   "name": "python",
   "nbconvert_exporter": "python",
   "pygments_lexer": "ipython3",
   "version": "3.9.13"
  }
 },
 "nbformat": 4,
 "nbformat_minor": 5
}
