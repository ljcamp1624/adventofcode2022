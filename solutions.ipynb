{
 "cells": [
  {
   "cell_type": "code",
   "execution_count": 32,
   "id": "8dde5d05",
   "metadata": {},
   "outputs": [],
   "source": [
    "import numpy as np"
   ]
  },
  {
   "cell_type": "code",
   "execution_count": 75,
   "id": "113976ea",
   "metadata": {},
   "outputs": [],
   "source": [
    "def read_txt(file_name):\n",
    "    out = []\n",
    "    v = []\n",
    "    for x in open(file_name, 'r').readlines():\n",
    "        n = x.split('\\n')[0]\n",
    "        if len(n) == 0:\n",
    "            out.append(v)\n",
    "            v = []\n",
    "        else:\n",
    "            v.append(n)\n",
    "    out.append(v)\n",
    "    return out"
   ]
  },
  {
   "cell_type": "code",
   "execution_count": 165,
   "id": "d396ab6f",
   "metadata": {},
   "outputs": [
    {
     "name": "stdout",
     "output_type": "stream",
     "text": [
      "70698 206643\n"
     ]
    }
   ],
   "source": [
    "q1input = read_txt('q1input.txt')\n",
    "a = 0\n",
    "b = [0,0,0]\n",
    "for x in q1input:\n",
    "    n = np.sum([int(y) for y in x])\n",
    "    a = np.max((a, n))\n",
    "    for m in range(3):\n",
    "        if n >= b[m]:\n",
    "            b.insert(m, n)\n",
    "            b.pop(3)\n",
    "            break\n",
    "print(a, np.sum(b))"
   ]
  },
  {
   "cell_type": "code",
   "execution_count": 116,
   "id": "6afb6ff7",
   "metadata": {},
   "outputs": [
    {
     "name": "stdout",
     "output_type": "stream",
     "text": [
      "13484 13433\n"
     ]
    }
   ],
   "source": [
    "def get_score(s):\n",
    "    if s in ['A','X']:\n",
    "        return 1\n",
    "    elif s in ['B','Y']:\n",
    "        return 2\n",
    "    elif s in ['C','Z']:\n",
    "        return 3\n",
    "    \n",
    "def get_score2(s):\n",
    "    if s in ['X']:\n",
    "        return 0\n",
    "    elif s in ['Y']:\n",
    "        return 3\n",
    "    elif s in ['Z']:\n",
    "        return 6\n",
    "\n",
    "def resolve_game(s1, s2):\n",
    "    if s1 == s2:\n",
    "        return 3\n",
    "    elif np.mod(s2,3) == np.mod(s1+1,3):\n",
    "        return 6\n",
    "    elif np.mod(s2,3) == np.mod(s1-1,3):\n",
    "        return 0\n",
    "    \n",
    "def invert_game(s1, outcome):\n",
    "    if outcome == 6:\n",
    "        return np.mod(s1,3)+1\n",
    "    elif outcome == 3:\n",
    "        return s1\n",
    "    elif outcome == 0:\n",
    "        return np.mod(np.mod(s1,3)+1,3)+1\n",
    "    \n",
    "q2input = read_txt('q2input.txt')[0]\n",
    "a = 0\n",
    "b = 0\n",
    "for x in q2input:\n",
    "    them = get_score(x[0])\n",
    "    you = get_score(x[2])\n",
    "    outcome = resolve_game(them, you)\n",
    "    a += you + outcome\n",
    "    \n",
    "    outcome2 = get_score2(x[2])\n",
    "    you2 = invert_game(them, outcome2)\n",
    "    b += you2 + outcome2\n",
    "print(a, b)"
   ]
  },
  {
   "cell_type": "code",
   "execution_count": 167,
   "id": "d8bc3bf4",
   "metadata": {},
   "outputs": [
    {
     "name": "stdout",
     "output_type": "stream",
     "text": [
      "7824 2798\n"
     ]
    }
   ],
   "source": [
    "def matching_letter(s1, s2):\n",
    "    s = []\n",
    "    for i in s1:\n",
    "        for j in s2:\n",
    "            if i==j:\n",
    "                s.append(i)\n",
    "    return s\n",
    "\n",
    "def get_priority(s):\n",
    "    if ord(s) in range(65,91): # upper case letters\n",
    "        return int(ord(s))-65+27\n",
    "    elif ord(s) in range(97,123): # lower case letters\n",
    "        return int(ord(s))-97+1\n",
    "    \n",
    "q3input = read_txt('q3input.txt')[0]\n",
    "a = 0\n",
    "b = 0\n",
    "for x, i in zip(q3input, range(len(q3input))):\n",
    "    s1 = x[:int(len(x)/2)]\n",
    "    s2 = x[int(len(x)/2):]\n",
    "    a += get_priority(matching_letter(s1,s2)[0])\n",
    "    if np.mod(i,3) == 2:\n",
    "        s1 = q3input[i]\n",
    "        s2 = q3input[i-1]\n",
    "        s3 = q3input[i-2]\n",
    "        b += get_priority(matching_letter(matching_letter(s1,s2),s3)[0])\n",
    "print(a, b)"
   ]
  },
  {
   "cell_type": "code",
   "execution_count": 208,
   "id": "e4595517",
   "metadata": {},
   "outputs": [
    {
     "name": "stdout",
     "output_type": "stream",
     "text": [
      "524 798\n"
     ]
    }
   ],
   "source": [
    "q4input = read_txt('q4input.txt')[0]\n",
    "a = 0\n",
    "b = 0\n",
    "for x in q4input:\n",
    "    vals = [[int(n) for n in s.split('-')] for s in x.split(',')]\n",
    "    s1 = set(range(vals[0][0], vals[0][1] + 1))\n",
    "    s2 = set(range(vals[1][0], vals[1][1] + 1))\n",
    "    a += (s1.issubset(s2) | s2.issubset(s1))\n",
    "    b += (len(s1 & s2) > 0)\n",
    "print(a, b)"
   ]
  },
  {
   "cell_type": "code",
   "execution_count": 293,
   "id": "0f6abab5",
   "metadata": {},
   "outputs": [
    {
     "ename": "AttributeError",
     "evalue": "'list' object has no attribute 'split'",
     "output_type": "error",
     "traceback": [
      "\u001b[1;31m---------------------------------------------------------------------------\u001b[0m",
      "\u001b[1;31mAttributeError\u001b[0m                            Traceback (most recent call last)",
      "\u001b[1;32m~\\AppData\\Local\\Temp\\ipykernel_15228\\3735241995.py\u001b[0m in \u001b[0;36m<module>\u001b[1;34m\u001b[0m\n\u001b[0;32m     24\u001b[0m \u001b[1;33m\u001b[0m\u001b[0m\n\u001b[0;32m     25\u001b[0m \u001b[0mstacks\u001b[0m \u001b[1;33m=\u001b[0m \u001b[0mparse_crates\u001b[0m\u001b[1;33m(\u001b[0m\u001b[0mcrates\u001b[0m\u001b[1;33m)\u001b[0m\u001b[1;33m\u001b[0m\u001b[1;33m\u001b[0m\u001b[0m\n\u001b[1;32m---> 26\u001b[1;33m \u001b[0mmoves_list\u001b[0m \u001b[1;33m=\u001b[0m \u001b[0mparse_moves\u001b[0m\u001b[1;33m(\u001b[0m\u001b[0mmoves\u001b[0m\u001b[1;33m)\u001b[0m\u001b[1;33m\u001b[0m\u001b[1;33m\u001b[0m\u001b[0m\n\u001b[0m\u001b[0;32m     27\u001b[0m \u001b[1;33m\u001b[0m\u001b[0m\n\u001b[0;32m     28\u001b[0m \u001b[1;32mfor\u001b[0m \u001b[0mm\u001b[0m \u001b[1;32min\u001b[0m \u001b[0mmoves_list\u001b[0m\u001b[1;33m:\u001b[0m\u001b[1;33m\u001b[0m\u001b[1;33m\u001b[0m\u001b[0m\n",
      "\u001b[1;32m~\\AppData\\Local\\Temp\\ipykernel_15228\\3735241995.py\u001b[0m in \u001b[0;36mparse_moves\u001b[1;34m(moves)\u001b[0m\n\u001b[0;32m     20\u001b[0m     \u001b[0mmove_list\u001b[0m \u001b[1;33m=\u001b[0m \u001b[1;33m[\u001b[0m\u001b[1;33m]\u001b[0m\u001b[1;33m\u001b[0m\u001b[1;33m\u001b[0m\u001b[0m\n\u001b[0;32m     21\u001b[0m     \u001b[1;32mfor\u001b[0m \u001b[0ms\u001b[0m \u001b[1;32min\u001b[0m \u001b[0mmoves\u001b[0m\u001b[1;33m:\u001b[0m\u001b[1;33m\u001b[0m\u001b[1;33m\u001b[0m\u001b[0m\n\u001b[1;32m---> 22\u001b[1;33m         \u001b[0mmove_list\u001b[0m\u001b[1;33m.\u001b[0m\u001b[0mappend\u001b[0m\u001b[1;33m(\u001b[0m\u001b[1;33m[\u001b[0m\u001b[0mint\u001b[0m\u001b[1;33m(\u001b[0m\u001b[0mx\u001b[0m\u001b[1;33m)\u001b[0m \u001b[1;32mfor\u001b[0m \u001b[0mx\u001b[0m \u001b[1;32min\u001b[0m \u001b[0ms\u001b[0m\u001b[1;33m.\u001b[0m\u001b[0msplit\u001b[0m\u001b[1;33m(\u001b[0m\u001b[1;34m' '\u001b[0m\u001b[1;33m)\u001b[0m\u001b[1;33m[\u001b[0m\u001b[1;36m1\u001b[0m\u001b[1;33m:\u001b[0m\u001b[1;33m:\u001b[0m\u001b[1;36m2\u001b[0m\u001b[1;33m]\u001b[0m\u001b[1;33m]\u001b[0m\u001b[1;33m)\u001b[0m\u001b[1;33m\u001b[0m\u001b[1;33m\u001b[0m\u001b[0m\n\u001b[0m\u001b[0;32m     23\u001b[0m     \u001b[1;32mreturn\u001b[0m \u001b[0mmove_list\u001b[0m\u001b[1;33m\u001b[0m\u001b[1;33m\u001b[0m\u001b[0m\n\u001b[0;32m     24\u001b[0m \u001b[1;33m\u001b[0m\u001b[0m\n",
      "\u001b[1;31mAttributeError\u001b[0m: 'list' object has no attribute 'split'"
     ]
    }
   ],
   "source": [
    "q5input = read_txt('q5input.txt')\n",
    "crates = q5input[0]\n",
    "moves_list = q5input[1]\n",
    "\n",
    "def parse_crates(crates):\n",
    "    cols = []\n",
    "    for s, i in zip(crates[-1], range(len(crates[-1]))):\n",
    "        if s != ' ':\n",
    "            cols.append(i)\n",
    "    stacks = []\n",
    "    for i in range(len(cols)):\n",
    "        stacks.append([])\n",
    "    for c, i in zip(cols, range(len(cols))):\n",
    "        for row in crates[-2::-1]:\n",
    "            if row[c] != ' ':\n",
    "                stacks[i].append(row[c])\n",
    "    return stacks\n",
    "\n",
    "def parse_moves(moves):\n",
    "    move_list = []\n",
    "    for s in moves:\n",
    "        move_list.append([int(x) for x in s.split(' ')[1::2]])\n",
    "    return move_list\n",
    "            \n",
    "stacks = parse_crates(crates)\n",
    "moves_list = parse_moves(moves)\n",
    "\n",
    "for m in moves_list:\n",
    "    num = m[0]\n",
    "    frm = m[1]-1\n",
    "    to = m[2]-1\n",
    "    for n in range(num):\n",
    "        stacks[to].append(stacks[frm].pop(-1))\n",
    "print(''.join([x[-1] for x in stacks]))\n",
    "\n",
    "stacks = parse_crates(crates)\n",
    "moves_list = parse_moves(moves)\n",
    "for m in moves_list:\n",
    "    num = m[0]\n",
    "    frm = m[1]-1\n",
    "    to = m[2]-1\n",
    "    temp = []\n",
    "    for n in range(num):\n",
    "        temp = stacks[frm].pop(-1)\n",
    "    temp.reverse()\n",
    "    stacks[to] = stacks[to]+temp\n",
    "print(''.join([x[-1] for x in stacks]))\n",
    "\n"
   ]
  },
  {
   "cell_type": "code",
   "execution_count": 291,
   "id": "91c1b966",
   "metadata": {},
   "outputs": [
    {
     "data": {
      "text/plain": [
       "[1, 10, 2, 3]"
      ]
     },
     "execution_count": 291,
     "metadata": {},
     "output_type": "execute_result"
    }
   ],
   "source": [
    "t = [1,2,3]\n",
    "t.insert(1,10)\n",
    "t"
   ]
  },
  {
   "cell_type": "code",
   "execution_count": 281,
   "id": "c1b68549",
   "metadata": {},
   "outputs": [
    {
     "data": {
      "text/plain": [
       "[['N', 'C', 'R', 'T', 'M', 'Z', 'P'],\n",
       " ['D', 'N', 'T', 'S', 'B', 'Z', 'H', 'R'],\n",
       " ['M', 'H', 'Q'],\n",
       " ['G', 'R', 'Z', 'L', 'H', 'W', 'Z', 'Q', 'R', 'F'],\n",
       " ['Z'],\n",
       " ['F', 'H', 'S', 'W', 'P', 'Z', 'L', 'D', 'N'],\n",
       " ['G', 'T', 'C'],\n",
       " ['S', 'J', 'F'],\n",
       " ['S', 'Q', 'P', 'W', 'N', 'M', 'G', 'C', 'R', 'Z', 'D', 'W']]"
      ]
     },
     "execution_count": 281,
     "metadata": {},
     "output_type": "execute_result"
    }
   ],
   "source": [
    "stacks"
   ]
  },
  {
   "cell_type": "code",
   "execution_count": 282,
   "id": "8e8a8788",
   "metadata": {},
   "outputs": [
    {
     "data": {
      "text/plain": [
       "9"
      ]
     },
     "execution_count": 282,
     "metadata": {},
     "output_type": "execute_result"
    }
   ],
   "source": [
    "frm"
   ]
  }
 ],
 "metadata": {
  "kernelspec": {
   "display_name": "Python 3 (ipykernel)",
   "language": "python",
   "name": "python3"
  },
  "language_info": {
   "codemirror_mode": {
    "name": "ipython",
    "version": 3
   },
   "file_extension": ".py",
   "mimetype": "text/x-python",
   "name": "python",
   "nbconvert_exporter": "python",
   "pygments_lexer": "ipython3",
   "version": "3.9.13"
  }
 },
 "nbformat": 4,
 "nbformat_minor": 5
}
