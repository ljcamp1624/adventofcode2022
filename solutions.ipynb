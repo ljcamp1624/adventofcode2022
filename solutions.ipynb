{
 "cells": [
  {
   "cell_type": "code",
   "execution_count": 32,
   "id": "738b52c1",
   "metadata": {},
   "outputs": [],
   "source": [
    "import numpy as np"
   ]
  },
  {
   "cell_type": "code",
   "execution_count": 75,
   "id": "6ab496b4",
   "metadata": {},
   "outputs": [],
   "source": [
    "def read_txt(file_name):\n",
    "    out = []\n",
    "    v = []\n",
    "    for x in open(file_name, 'r').readlines():\n",
    "        n = x.split('\\n')[0]\n",
    "        if len(n) == 0:\n",
    "            out.append(v)\n",
    "            v = []\n",
    "        else:\n",
    "            v.append(n)\n",
    "    out.append(v)\n",
    "    return out"
   ]
  },
  {
   "cell_type": "code",
   "execution_count": 91,
   "id": "59464f00",
   "metadata": {},
   "outputs": [
    {
     "name": "stdout",
     "output_type": "stream",
     "text": [
      "70698 [70698, 69773, 66172] 206643\n"
     ]
    }
   ],
   "source": [
    "q1input = read_txt('q1input.txt')\n",
    "a = 0\n",
    "b = [0,0,0]\n",
    "for x in q1input:\n",
    "    n = np.sum([int(y) for y in x])\n",
    "    a = np.max((a, n))\n",
    "    for m in range(3):\n",
    "        if n >= b[m]:\n",
    "            b.insert(m, n)\n",
    "            b.pop(3)\n",
    "            break\n",
    "print(a, np.sum(b))"
   ]
  },
  {
   "cell_type": "code",
   "execution_count": 116,
   "id": "22d27174",
   "metadata": {},
   "outputs": [
    {
     "name": "stdout",
     "output_type": "stream",
     "text": [
      "13484 13433\n"
     ]
    }
   ],
   "source": [
    "def get_score(s):\n",
    "    if s in ['A','X']:\n",
    "        return 1\n",
    "    elif s in ['B','Y']:\n",
    "        return 2\n",
    "    elif s in ['C','Z']:\n",
    "        return 3\n",
    "    \n",
    "def get_score2(s):\n",
    "    if s in ['X']:\n",
    "        return 0\n",
    "    elif s in ['Y']:\n",
    "        return 3\n",
    "    elif s in ['Z']:\n",
    "        return 6\n",
    "\n",
    "def resolve_game(s1, s2):\n",
    "    if s1 == s2:\n",
    "        return 3\n",
    "    elif np.mod(s2,3) == np.mod(s1+1,3):\n",
    "        return 6\n",
    "    elif np.mod(s2,3) == np.mod(s1-1,3):\n",
    "        return 0\n",
    "    \n",
    "def invert_game(s1, outcome):\n",
    "    if outcome == 6:\n",
    "        return np.mod(s1,3)+1\n",
    "    elif outcome == 3:\n",
    "        return s1\n",
    "    elif outcome == 0:\n",
    "        return np.mod(np.mod(s1,3)+1,3)+1\n",
    "    \n",
    "q2input = read_txt('q2input.txt')[0]\n",
    "a = 0\n",
    "b = 0\n",
    "for x in q2input:\n",
    "    them = get_score(x[0])\n",
    "    you = get_score(x[2])\n",
    "    outcome = resolve_game(them, you)\n",
    "    a += you + outcome\n",
    "    \n",
    "    outcome2 = get_score2(x[2])\n",
    "    you2 = invert_game(them, outcome2)\n",
    "    b += you2 + outcome2\n",
    "print(a, b)"
   ]
  },
  {
   "cell_type": "code",
   "execution_count": 162,
   "id": "edfb337b",
   "metadata": {},
   "outputs": [
    {
     "name": "stdout",
     "output_type": "stream",
     "text": [
      "hGjhncHhGnhbTHczBBZVVSbRwgSgRV hpvvTDcrCjhpcrvcGGhfLHMlLtMCqflNlWPJlJ BzRmmzZHzVBzgVQmZLPtqqffPqWqJmPLlL ['h', 'h', 'h', 'G', 'G', 'j', 'h', 'h', 'h', 'c', 'c', 'c', 'H', 'h', 'h', 'h', 'G', 'G', 'h', 'h', 'h', 'T', 'H', 'c', 'c', 'c'] ['f', 'f', 'L', 'L', 'L', 'H', 'l', 'L', 'L', 'L', 't', 'q', 'q', 'q', 'q', 'f', 'f', 'l', 'l', 'W', 'P', 'P', 'P', 'J', 'l', 'J']\n",
      "TvLszpbhhTLmsnRQPDQGWDWRvQSR zzmmpzfTCFpTlMlJJwBgMlqMBt rWVQjPQQjGRWNSrWrPjcptwBpqqJBtJBBcZgMdtq ['T', 'T', 'z', 'z', 'z', 'p', 'p', 'T', 'T', 'm', 'm'] ['p', 'p', 'p', 'p', 'M', 'J', 'J', 'J', 'J', 'w', 'B', 'B', 'B', 'B', 'g', 'M', 'q', 'q', 'q', 'M', 'B', 'B', 'B', 'B', 't', 't', 't']\n",
      "pbsbVVnpSnbVTprnbqqrzvLLgQlGLPLHll fTJNfTfNSRWPhjdjfj zGzvLlGlQHLGBQZlhBWhdjRdmdWRcjPj ['S', 'T', 'T', 'P'] ['R', 'R', 'W', 'W', 'P', 'h', 'h', 'j', 'j', 'j', 'd', 'd', 'd', 'j', 'j', 'j', 'j', 'j', 'j']\n",
      "cdqnddwzqjNVWVLZZLZq tlncPjzlndctbzcPPBcjwDphwrfGGDffbDRpDTGG ZCCCsWvNvmsCsCmZLZmgMLRpQMhwQRpQRfphfprpTfpM ['c', 'c', 'c', 'c', 'd', 'n', 'n', 'd', 'd', 'w', 'w', 'z', 'z', 'j', 'j'] ['w', 'p', 'p', 'p', 'p', 'p', 'p', 'h', 'h', 'w', 'r', 'f', 'f', 'f', 'f', 'f', 'f', 'f', 'f', 'f', 'R', 'R', 'R', 'p', 'p', 'p', 'p', 'p', 'p', 'T']\n",
      "pJCzVpCvDZBLsVRQ zzMJMzjCjJJjvLjMPJpcgPpzfhHdfqWcqddwtwfqdttcNtdN DTLbDbRrlQbwhhNrmmfwdt ['p', 'p', 'J', 'J', 'J', 'J', 'C', 'z', 'z', 'z', 'z', 'p', 'p', 'C', 'v', 'L'] ['L', 'f', 'h', 'h', 'd', 'f', 'd', 'd', 'w', 'w', 't', 'w', 'w', 'f', 'd', 't', 't', 'N', 't', 'd', 'N']\n",
      "sGFscMQQMMpqzqbMbd jsQnnQjjHcvQFrcPwCmtLCNlvDfftfff STzBBbJzRRBZBRTqCCsfZLtNNLClCsfh ['s', 'F', 's', 'c', 'c', 'Q', 'Q', 'Q', 'Q', 'Q', 'Q'] ['s', 's', 'C', 'C', 'C', 'C', 't', 'L', 'L', 'C', 'C', 'C', 'C', 'N', 'N', 'l', 'f', 'f', 'f', 'f', 't', 'f', 'f', 'f', 'f', 'f', 'f']\n",
      "pSLnMdwhwdRZRSwhLZwLhdGWQjlsgWjNQWWSvgBsWDlj MhLrhgLVndRmzJFzVqqJqP QlNDWGsjQjgQllWQsbtzqTJczTJcbFmmFJJP ['L', 'L', 'n', 'M', 'd', 'h', 'h', 'd', 'R', 'R', 'h', 'h', 'L', 'L', 'L', 'L', 'h', 'h', 'd', 'g', 'g'] ['g', 'm', 'm', 'z', 'z', 'J', 'J', 'J', 'J', 'F', 'F', 'z', 'z', 'q', 'q', 'J', 'J', 'J', 'J', 'q', 'P']\n",
      "zNflzJWqqzQDdSStHNZNpFFtbj GzWnWfndWfznDfsnsBsPVwVwPPLL THjSRFSddTjdBTcPLcVVvVBw ['z', 'z', 'f', 'f', 'f', 'z', 'z', 'W', 'W', 'W', 'z', 'z', 'D', 'd'] ['d', 'd', 'd', 'B', 'B', 'P', 'V', 'V', 'V', 'w', 'V', 'V', 'V', 'w', 'P', 'P', 'L', 'L']\n",
      "WTJJRRQCRRJTRdBCRdvRNDFSWFMPmDlPPSsNPSzS rTrTtTQQntRQnQJQgggHZttVgHLBLhZL FSzDmsFSFlDlBzqVjqHHjHHpVgHLbp ['T', 'T', 'T', 'J', 'J', 'R', 'R', 'Q', 'Q', 'Q', 'Q', 'Q', 'R', 'R', 'J', 'T', 'T', 'T', 'R', 'B', 'R', 'R'] ['g', 'g', 'g', 'H', 'H', 'H', 'H', 'H', 'V', 'V', 'g', 'H', 'H', 'H', 'H', 'H', 'L', 'B', 'L', 'L']\n",
      "zSScchqwchBzTzFzhhSlcCwNtdVWWJgsVdMtWNgNVWTJTd rqcZPrCFjmHlbGjZ WQldlMtMVQgVMQHnDGbHGGnRnQmD ['c', 'c', 'q', 'c', 'F', 'l', 'c', 'C'] ['m', 'H', 'H', 'l', 'l', 'b', 'G', 'G', 'G']\n",
      "BRLcCCJCmJdcRhfjPPZphrlrPqlZ cdCCdLHcnndHJnmCRntLBnRzDvFNtNDVzgSgwDgFNVzFVv lMZqjMWllrTTspjprWWSSwgWNSVNDmWGVwFwgN ['B', 'R', 'R', 'L', 'L', 'c', 'c', 'C', 'C', 'C', 'C', 'C', 'C', 'J', 'C', 'C', 'C', 'm', 'J', 'd', 'd', 'd', 'c', 'c', 'R', 'R'] ['m', 'D', 'F', 'N', 'N', 'N', 'N', 'N', 'N', 'D', 'V', 'V', 'g', 'g', 'S', 'S', 'S', 'g', 'g', 'w', 'w', 'w', 'D', 'g', 'g', 'F', 'N', 'N', 'N', 'V', 'V', 'F', 'V', 'V']\n",
      "VfQDhflCCRWdcrQwJvvnJv NbPVPDlljPmTmsTj GdGqcrrZGDrvDJJqJHcBvmFFgmFMMgMgBtMLTssLmF ['V', 'D', 'l', 'l'] ['D', 'D', 'm', 'm', 'm', 'T', 'm', 'm', 'm', 's', 's', 'T']\n",
      "lrsvblMDlcWcfQPQ DhbhNrMpnJSDJwVTHmmTVnTTVj RLcWgLCqqPQLcqZwzHgwmmrmmtgwTw ['r', 'b', 'M', 'D', 'D'] ['r', 'w', 'w', 'w', 'w', 'T', 'H', 'm', 'm', 'm', 'm', 'm', 'm', 'm', 'm', 'T', 'T', 'T']\n",
      "MgtmTgtfpqVlnVddZMwV SqcDvTmDLtfmSmtqppfqzTgTQBrRQsbCFWbNNFQFBBrRbLNb PVldlphHwGwJJGdjZZWsRbbsGsNWrWQbNbQR ['g', 't', 't', 'm', 'm', 'm', 'T', 'T', 'T', 'g', 't', 't', 'f', 'f', 'p', 'p', 'q', 'q', 'q'] ['p', 'p', 'Q', 'Q', 'r', 'R', 'R', 'Q', 'Q', 's', 's', 's', 'b', 'b', 'b', 'b', 'W', 'W', 'W', 'b', 'b', 'b', 'b', 'N', 'N', 'N', 'N', 'Q', 'Q', 'r', 'R', 'R', 'b', 'b', 'b', 'b', 'N', 'N', 'b', 'b', 'b', 'b']\n",
      "VqhzVFzplFlpLwpMphLRQQVRmSqgbdGtNJBmNSmgGbtggSgt jzzLsjsMRlQQVHwswvvZrCHrrT BdmfmPBPSbSNdGSdvWrwcZrccZPPcZnH ['V', 'z', 'z', 'V', 'z', 'z', 'l', 'l', 'L', 'w', 'w', 'M', 'L', 'R', 'Q', 'Q', 'Q', 'Q', 'V', 'R'] ['H', 'w', 'w', 'v', 'v', 'Z', 'Z', 'Z', 'r', 'r', 'H', 'r', 'r', 'r', 'r']\n",
      "scrtMhMCtJBBBclbHdHttWZWDSqDSjHj lrTBTsBwwMbrrwLPPfwGmGzvRf DHVpNZjdZjFZWVFHpvFvzmlRzPnlfznFRz ['s', 'r', 'r', 'r', 'M', 'M', 'B', 'B', 'B', 'B', 'B', 'B', 'l', 'b'] ['l', 'l', 'P', 'P', 'f', 'm', 'z', 'z', 'z', 'z', 'v', 'v', 'R', 'R', 'f']\n",
      "QnQrVgHSvVHjbjTGBbbTHb CgCnhlvvLJgcRFNNBdCpWM wzqsPmqsbsfqBwPMNRMMZcZmFFNtZM ['n', 'g', 'g', 'v', 'v', 'B'] ['c', 'R', 'F', 'F', 'N', 'N', 'N', 'N', 'B', 'M', 'M', 'M', 'M']\n",
      "wQlfjrhfhQFHqZhRZRtD SczlScjwcNzplNzQSSfjwQSrTGGsbTsnTCnGTMCMLMGGbN HdrVrdqFDdZVmHgRmDRFHMnTdTssMGnLnPJLbPTbCs ['w', 'w', 'Q', 'Q', 'l', 'l', 'f', 'j', 'j', 'r', 'f', 'Q', 'Q'] ['r', 'r', 'T', 'T', 'T', 'G', 'G', 's', 's', 's', 'b', 'b', 'T', 'T', 'T', 's', 's', 's', 'n', 'n', 'n', 'T', 'T', 'T', 'C', 'n', 'n', 'n', 'G', 'T', 'T', 'T', 'M', 'M', 'C', 'M', 'M', 'L', 'L', 'M', 'M', 'G', 'G', 'b', 'b']\n",
      "rrLCbTwnHTvzvNGT LLCbBCwCrCmVVnrmhQFmbVhdcdlWpjZzSpMdWSpcWczSBj RsfJDGJvzPNcjpddSWJWMd ['r', 'r', 'r', 'r', 'L', 'L', 'C', 'C', 'C', 'C', 'b', 'b', 'w', 'n', 'z', 'z'] ['d', 'd', 'd', 'c', 'd', 'd', 'd', 'W', 'W', 'p', 'j', 'z', 'S', 'p', 'M', 'd', 'd', 'd', 'W', 'W', 'S', 'p', 'c', 'W', 'W', 'c', 'z', 'S', 'j']\n",
      "TVQRZGVncFdTGWZdCNShHhfPNwwsWPwb RVVZddLFRZZcQLvJJtzptlgPJp wPhPhbCqqSCrtJDlqvlrJr ['V', 'V', 'Q', 'R', 'R', 'Z', 'Z', 'Z', 'V', 'V', 'c', 'F', 'd', 'd', 'Z', 'Z', 'Z', 'd', 'd', 'P', 'P'] ['v', 'J', 'J', 'J', 'J', 't', 't', 'l', 'l', 'P', 'P', 'J', 'J']\n",
      "tBNJBnGBflQnDPJrPhDgrPVg nWBGntQfGNGBflWBBqlpRQGbWFvjwsbsFswbvTHjjbmHTc dzLVzPSgrgDDDCMSMLLPwFmdTTcsvmwNwjNsHcFF ['t', 'B', 'B', 'B', 'B', 'N', 'B', 'B', 'B', 'B', 'n', 'n', 'G', 'G', 'G', 'G', 'B', 'B', 'B', 'B', 'f', 'f', 'l', 'l', 'Q', 'Q', 'n', 'n'] ['N', 'N', 'F', 'F', 'F', 'v', 'j', 'w', 'w', 'w', 's', 's', 's', 's', 'F', 'F', 'F', 's', 's', 'w', 'w', 'w', 'v', 'T', 'T', 'H', 'j', 'j', 'm', 'm', 'H', 'T', 'T', 'c', 'c']\n",
      "ccLRhgsLBdRsdHNTFFNNgqTglqzF sDHsBDhBdsBZGcHvLHDLhhCSnRSwCJMZrPbmnMbJSCSR VtWztWtqpqzWpWzqjNRjNpWTmrrmrSbnmJwSJwnMPrCSJVwM ['c', 'c', 'L', 'L', 'R', 'R', 'h', 'h', 'h', 's', 's', 's', 'L', 'L', 'B', 'B', 'B', 'd', 'R', 'R', 's', 's', 's', 'd', 'H', 'H', 'H'] ['C', 'S', 'S', 'S', 'n', 'n', 'R', 'S', 'S', 'S', 'w', 'w', 'w', 'C', 'J', 'J', 'J', 'M', 'M', 'r', 'r', 'r', 'r', 'P', 'b', 'm', 'm', 'm', 'n', 'n', 'M', 'M', 'b', 'J', 'J', 'J', 'S', 'S', 'S', 'C', 'S', 'S', 'S', 'R']\n",
      "qGJsnQTRsStsftPlhPNl RSJRrRqnqQJFqvnTGrHCcHHCCHHbHHMcMvdM hztlmDhPhgPlPNNgmZMCbmwwQjcwjjwMjVCd ['q', 'q', 'q', 'G', 'J', 'J', 'n', 'n', 'Q', 'T', 'R', 'R', 'R', 'S'] ['Q', 'C', 'C', 'c', 'C', 'C', 'C', 'C', 'b', 'M', 'M', 'c', 'M', 'M', 'd', 'M', 'M']\n",
      "VqdSZtQgZvtdzqHqHtVZdVQpCDWWFdwlRPDpWPPBCswlWD VJMVpzgqggJnrjmjNcMjmT BFFBLPRCwsLwhlPlRmhcGGrbmmGjfNTTnp ['V', 'V', 'q', 'g', 'g', 'g', 'z', 'q', 'q', 'V', 'V', 'V', 'V', 'p', 'p'] ['p', 'n', 'r', 'j', 'm', 'm', 'm', 'j', 'N', 'c', 'j', 'm', 'm', 'm', 'T', 'T']\n",
      "ptNTQFHrZlnpFPwsWMbRjCpcjR TmJtrNJrBLSLJqgS fCWCsjPzcbzwRSzVTzhhDLqvdg ['t', 'N', 'T', 'r', 'r'] ['T', 'L', 'S', 'L', 'q', 'g', 'S']\n",
      "tPgctSnPctZZgDWzZgQHwNmHlhlmzlQhlJlw ZcgTWcTnMqqMTBqF nJmQNCmbmlllmbClbfMLjMFqbGBsdLFq ['g', 'c', 'c', 'n', 'c', 'c', 'Z', 'Z', 'g', 'W', 'Z', 'g'] ['n', 'M', 'M', 'q', 'q', 'q', 'q', 'M', 'M', 'B', 'q', 'q', 'F', 'F']\n",
      "nNgMrnnDGjDmJMmnFdZTTsdsrZrslcwcQr FDMPnNFNmBPzvRPRBg ZpTCwpffdslvgShCBhqhRz ['n', 'N', 'N', 'g', 'M', 'n', 'n', 'D', 'D', 'm', 'M', 'm', 'n', 'F', 'F'] ['B', 'z', 'v', 'R', 'R', 'B', 'g']\n",
      "LGNLLNBBzcDFCBwwFC jgjRZMGHhGLgQrjvPWzPJgJvzStbbq pTmczpCldcdDDnPttpvWSqbpJf ['L', 'G', 'G', 'L', 'L', 'z', 'z'] ['v', 'P', 'W', 'z', 'P', 'J', 'J', 'v', 'z', 'S', 't', 't', 'b', 'b', 'q']\n",
      "LLSgLGSjggFGbSSbmMnrvqvzjfzTNrJrqM bgDhgbghLWmFmStctVpZtBCVCCpfZp nJTTqnrNvTzNMzzNfqrTPrJnwpwPpZpsHccZVsBRpcVHwpcp ['L', 'L', 'S', 'g', 'g', 'g', 'L', 'S', 'g', 'g', 'g', 'g', 'g', 'g', 'F', 'b', 'b', 'S', 'S', 'b', 'b', 'm', 'm', 'f'] ['c', 'c', 'c', 'c', 'V', 'V', 'p', 'p', 'p', 'p', 'p', 'p', 'Z', 'Z', 'B', 'V', 'V', 'p', 'p', 'p', 'p', 'p', 'p', 'f', 'Z', 'Z', 'p', 'p', 'p', 'p', 'p', 'p']\n",
      "NnLZsNnrrVVVcvdBLTPCPCRMwhPMBMPhCt WsNscdnvvdVZFVnnrZbjjflwljlbzfGFjQjq RRpDmmPMTjwfGmJQgQ ['N', 'n', 'n', 'n', 'Z', 'Z', 's', 's', 'N', 'n', 'n', 'n', 'r', 'r', 'V', 'V', 'V', 'V', 'V', 'V', 'c', 'v', 'v', 'd', 'd', 'w'] ['j', 'j', 'f', 'w', 'j', 'f', 'G', 'j', 'Q', 'Q', 'j']\n",
      "CcZCTrZDsjZTsTsshWhrWrTnfgbLDfJzVVLVVlgfnzfVGV TsMBswFZsWMWBZMNwPtNNtRNHcNpSQ lbVvzngGJnVbJHpHtHNPpdSQvc ['c', 'Z', 'Z', 'T', 'Z', 'Z', 's', 's', 's', 'Z', 'Z', 'T', 's', 's', 's', 'T', 's', 's', 's', 's', 's', 's', 'W', 'W', 'W', 'W', 'T'] ['N', 'P', 't', 'N', 'N', 't', 'N', 'H', 'H', 'H', 'c', 'N', 'p', 'p', 'S', 'Q']\n",
      "nSSpnbsGlLDnpPsSSspFtVvffRQdVzqvvbqdfVQwRz DDFGlLGcGlSSSLsFGBspPBmNMBHMghmWNmWjWCmWtH JzTTRtJRZWmWjrMHCT ['S', 'S', 'S', 'S', 'S', 'S', 'p', 's', 's', 'G', 'G', 'G', 'G', 'l', 'l', 'L', 'L', 'D', 'D', 'p', 'P', 's', 's', 'S', 'S', 'S', 'S', 'S', 'S', 's', 's', 'p', 'F', 'F', 't'] ['m', 'M', 'H', 'M', 'm', 'W', 'W', 'm', 'W', 'W', 'j', 'W', 'W', 'C', 'm', 'W', 'W', 't', 'H']\n",
      "wgPQcTGGzgccwCgnRwgRChFhlWSDqWWQMWhssSsMQl nrTPrGwfPLdprzJzdL sMhzszlHHDsWbthHDqsbJjpLNtmjVJmVLLVLVLBp ['w', 'P', 'P', 'T', 'G', 'G', 'z', 'z', 'w', 'n', 'w'] ['L', 'L', 'L', 'L', 'L', 'p', 'p', 'z', 'z', 'J', 'J', 'z', 'z', 'L', 'L', 'L', 'L', 'L']\n",
      "QHjbnRMcfbPbQZmlZgZlgBBQ PHcRGPLJMrsvzsqG NSNmwtpSpCpvMphCsr ['H', 'R', 'M', 'c', 'P', 'P'] ['M', 'r', 's', 'v', 's']\n",
      "wsmrwswwGTffMrBnmQttJtcMZQQtPJPbZc mmfsnnwrfvwrfSNZFzHHLDCFNlLlqDlN cPRPbhQjbQRdtPQdLqLHqzFZjCFCqLjC ['w', 'w', 's', 'm', 'm', 'r', 'r', 'w', 'w', 's', 'w', 'w', 'w', 'w', 'f', 'f', 'f', 'f', 'f', 'f', 'r', 'r', 'n', 'n', 'm', 'm', 'Z', 'Z'] ['Z', 'F', 'F', 'z', 'H', 'H', 'L', 'L', 'L', 'C', 'C', 'C', 'F', 'F', 'L', 'L', 'L', 'q', 'q', 'q']\n",
      "cmwllVqqGJbVVVmmqbQcmgRnRvGhGfgDRDZBBBvRdd rmJcbVqbcjWwWjQHLzTZFTHSzFrpsz MvBPDDRRdnnvHPCHZLHZsFLL ['c', 'c', 'm', 'w', 'V', 'q', 'q', 'J', 'b', 'b', 'V', 'V', 'V', 'm', 'm', 'q', 'b', 'b', 'Q', 'c', 'c', 'm', 'Z'] ['H', 'H', 'H', 'L', 'L', 'L', 'Z', 'Z', 'F', 'H', 'H', 'H', 'F', 's']\n",
      "CRjCpLltgtJgJJWq rCsPLRCssRjrLLsrLlwRVrcNJQfDQfdBmmfNBGJNzmDPfB nMvMhMnvhnbTZWSSZgHmGJDFmmNDzBmbNmdGBN ['C', 'C', 'R', 'R', 'R', 'j', 'C', 'C', 'L', 'L', 'L', 'L', 'l', 'J', 'J', 'J', 'J', 'J', 'J'] ['N', 'N', 'N', 'J', 'D', 'D', 'd', 'B', 'B', 'm', 'm', 'm', 'm', 'm', 'm', 'm', 'm', 'm', 'm', 'N', 'N', 'N', 'B', 'B', 'G', 'G', 'J', 'N', 'N', 'N', 'z', 'm', 'm', 'm', 'm', 'm', 'D', 'D', 'B', 'B']\n",
      "qHVrQNHVMFQtrrBBQMBcrrZsZbzCZhbbJZJsmmsmFPTC LQMMNMnHtDtLVRvwwgRWlldgWD jshCzJpjzTPpmCWvSlpfwHfSWglf ['H', 'V', 'Q', 'N', 'H', 'V', 'M', 'M', 'M', 'Q', 't', 't', 'Q', 'M', 'M', 'M'] ['H', 'v', 'w', 'w', 'g', 'W', 'W', 'l', 'l', 'l', 'l', 'g', 'W', 'W']\n",
      "FSssFcLjFjbmFFCzjLcFLRDnMJnTHRnZZTdWqZZWnMnRnZ SSmDstFjpDpCszDjcLLhrPVlGlrGGVBwrvwVPt JZQZnsQNMqTngZqJBVfBfPPVBNrwvfPw ['F', 'S', 'S', 's', 's', 's', 's', 'F', 'c', 'L', 'L', 'j', 'j', 'F', 'j', 'j', 'm', 'F', 'F', 'C', 'z', 'j', 'j', 'L', 'L', 'c', 'F', 'L', 'L', 'D', 'D', 'D'] ['s', 's', 'r', 'P', 'P', 'P', 'V', 'V', 'r', 'V', 'V', 'B', 'B', 'B', 'w', 'w', 'r', 'v', 'w', 'w', 'V', 'V', 'P', 'P', 'P']\n",
      "ZccccfTsffHdWWdRWwsw gvjWWQvgZFtQFFNqLnVnDnSJzzztDD GbHRHpldwGMpWhHpCMBlCbRdVSLhnqJLSrDPLPPLPDqVDrhh ['Z', 'W', 'W', 'W', 'W', 'W', 'W'] ['W', 'W', 'q', 'q', 'L', 'L', 'L', 'L', 'n', 'V', 'V', 'n', 'D', 'D', 'D', 'n', 'S', 'S', 'J', 'D', 'D', 'D', 'D', 'D', 'D']\n",
      "WQgqtFQgDgQSFqJhqhSJvNDRrZMZHwHMCbZhTpZbGHMTMG gSDWSLgWQWQJJNWqgtQjPsnfcdVcLVdVdzfzVzff ClCtbHMlnnPPlszV ['W', 'W', 'W', 'W', 'Q', 'Q', 'Q', 'g', 'g', 'g', 'q', 't', 'Q', 'Q', 'Q', 'g', 'g', 'g', 'D', 'g', 'g', 'g', 'Q', 'Q', 'Q', 'S', 'S', 'q', 'J', 'J', 'q', 'S', 'S', 'J', 'J', 'N', 'D'] ['t', 'P', 'P', 's', 'n', 'n', 'V', 'V', 'V', 'z', 'z', 'V', 'z']\n",
      "szvVVnBmnTGQtHTQ zcmLSVczwcMcLDNFHdLPhPWH pZJZlCQtHFhPfdNfCh ['z', 'z', 'V', 'V', 'm', 'H', 'H'] ['N', 'F', 'H', 'd', 'P', 'h', 'h', 'P', 'H']\n",
      "TrfpBfJpJMlnnNfNZD ZFLFTmpLvvmSqsbb RVVCNDlNGzlGZqHGHWqWhGqQwH ['T', 'p', 'p', 'Z'] ['Z', 'q', 'q', 'q']\n",
      "CcCWFbbBLCWtgWgHjghqvv mZRNcNcLLPNPBFFbbPmLmbZFSCVfJJTVndVfSwnRzznfTwCS qHHlDClHhltMqQsHDhHslGznwdTnzzwDGSdfnwGnwG ['C', 'C', 'c', 'c', 'C', 'C', 'F', 'F', 'F', 'b', 'b', 'b', 'b', 'b', 'b', 'B', 'L', 'L', 'L', 'C', 'C'] ['S', 'C', 'f', 'T', 'n', 'n', 'n', 'n', 'd', 'd', 'f', 'S', 'w', 'w', 'w', 'w', 'n', 'n', 'n', 'n', 'z', 'z', 'z', 'z', 'z', 'z', 'n', 'n', 'n', 'n', 'f', 'T', 'w', 'w', 'w', 'w', 'C', 'S']\n",
      "btbZbNZhJDJJhDtwtsTTTmBzzBBmlNlmHj PhMcLpPDtMLpwPDvLPJbMhSgVCGqggVqQgCqCgCgSWvv TjbzlnlFmfqCFFVVCRWr ['b', 't', 'b', 'b', 'h', 'h', 'J', 'D', 'D', 'J', 'J', 'h', 'h', 'D', 'D', 't', 'w', 't'] ['b', 'V', 'V', 'C', 'C', 'q', 'V', 'V', 'q', 'C', 'C', 'q', 'C', 'C', 'C', 'C', 'W']\n",
      "DGGDZRGrHggzSsFQnnWShmtH pfffRfLpgrgGgzrNVzzpGVzRCdMCPJbwwcVMbQPCJVMVdbww FqhjWtqlqmmsnFPTCvMCQMTTCjQd ['G', 'G', 'G', 'G', 'R', 'R', 'G', 'G', 'r', 'r', 'g', 'g', 'g', 'g', 'g', 'g', 'z', 'z', 'z', 'z', 'Q'] ['C', 'C', 'C', 'd', 'M', 'M', 'C', 'C', 'C', 'P', 'M', 'M', 'Q', 'Q', 'P', 'C', 'C', 'C', 'M', 'M', 'd']\n",
      "rBDsTwBbjbmbbQswswPhqVmmSvpVhlvvqMhHhh rdDjGsdTQDcNZfdncCRR vtHVVMMrvVMVrSHvLgvlHcZFCnRCZcccZtRRZfJFCJ ['r', 'D', 'D', 's', 'T', 'j', 'Q', 's', 's'] ['r', 'r', 'c', 'c', 'c', 'c', 'Z', 'Z', 'Z', 'Z', 'f', 'n', 'c', 'c', 'c', 'c', 'C', 'C', 'C', 'R', 'R', 'R', 'R', 'R', 'R']\n",
      "ZQDmDhVVCQbBVdVNMvvv MhCDJmhMDzmcRRcjzWfztH vGBLrqMNvqSLBvvrNbllLHfwStWWtFttccjtRtjtcj ['D', 'D', 'm', 'm', 'D', 'D', 'h', 'h', 'C', 'M', 'M'] ['M', 'M', 'c', 'c', 'c', 'R', 'R', 'c', 'c', 'c', 'j', 'j', 'j', 'W', 'W', 'f', 't', 't', 't', 't', 't', 't', 't', 'H']\n",
      "HwsQDNNsDsmRLLHmffsfvHptBnhtzCvhWpZWBdhnMdCh fQswRRffmRqZlgrqqFjjSgGg ptCtCzhWPWptnhVzzpGZbZTjTjVjFGjVFgVl ['w', 's', 'Q', 's', 's', 'm', 'R', 'R', 'R', 'm', 'f', 'f', 'f', 'f', 'f', 'f', 's', 'f', 'f', 'f', 'Z'] ['Z', 'Z', 'l', 'g', 'F', 'F', 'j', 'j', 'j', 'j', 'j', 'j', 'j', 'j', 'g', 'G', 'G', 'g']\n",
      "WNQJMVWsZWwGJWhhSNrQzlgHrDCgQRHpCHrl wVtNwpSZstppwwMsZhsdnLvnbtBBmbnLFFdnmF RlHzzTqczBPfbnvcpB ['N', 'M', 'V', 's', 's', 's', 'Z', 'Z', 'w', 'w', 'w', 'w', 'h', 'h', 'S', 'N', 'p', 'p', 'p'] ['p', 'p', 'p', 'n', 'v', 'n', 'b', 'B', 'B', 'B', 'B', 'b', 'n', 'n']\n",
      "nQVQDDDDfwBwNCVCNVFNpWpgJgrRTmLTmTmgRTWF NqjDPCQPnQCSvtMzSLhhjM RrZWpJZRrZpdTGstlchLGGlLMd ['n', 'Q', 'Q', 'Q', 'Q', 'D', 'D', 'D', 'D', 'N', 'C', 'C', 'C', 'C', 'N', 'N', 'L'] ['t', 'M', 'L', 'L', 'h', 'h', 'M']\n",
      "qVPZmRZhsCZPhZlRCqRRRCbfpccMBjvMVjdHjjMjSvdf zqRnPfzQCRzqsmRPzznhszzLtLwQwwFTgWWLDLgWFTwTNQ SHMcrMHpcjGcjSrMMbvSvvSvwFTLJwJNtFGFWJNtDLFTLfWN ['q', 'q', 'P', 'P', 'm', 'R', 'R', 'R', 'h', 's', 's', 'C', 'P', 'P', 'h', 'R', 'R', 'R', 'C', 'q', 'q', 'R', 'R', 'R', 'R', 'R', 'R', 'R', 'R', 'R', 'C', 'f', 'f'] ['f', 'L', 'L', 'L', 't', 't', 'L', 'L', 'L', 'w', 'w', 'w', 'w', 'w', 'w', 'F', 'F', 'F', 'F', 'T', 'T', 'W', 'W', 'W', 'W', 'L', 'L', 'L', 'D', 'L', 'L', 'L', 'W', 'W', 'F', 'F', 'F', 'F', 'T', 'T', 'w', 'w', 'T', 'T', 'N', 'N', 'N']\n",
      "DpJPqpWqHbZpllpt TDTTTqqTSSqjqnmTmPqPPmTmGhRszvsrzsjRsccgzrRzgWGF VVQdHwBZLVltlddtBczhrzvGcWWFRwgsFG ['D', 'P', 'P', 'P', 'q', 'q', 'q', 'q', 'q', 'W', 'q', 'q', 'q', 'q', 'q'] ['G', 'G', 'h', 'R', 's', 'z', 'z', 'v', 's', 'r', 'z', 'z', 's', 'R', 's', 'c', 'c', 'c', 'c', 'g', 'z', 'z', 'r', 'R', 'z', 'z', 'g', 'W', 'W', 'G', 'G', 'F', 'F']\n",
      "BGLLVVjRBsqPBfsGwPsMfSSZCSfTZTZQpSphfS VgBqBsqRrHtNdzmNrt cCSCFsnnZFnscDtNdJFJtJtdmb ['B', 'B', 'V', 'V', 'R', 'B', 'B', 's', 'q', 'q', 'B', 'B', 's', 's'] ['s', 's', 't', 't', 't', 'N', 'd', 'd', 'm', 'N', 't', 't', 't']\n",
      "cwsssmqRTFFfFgtbCtGl mTmMLhRfwhsLPQvQZDMZQBQWMB plCHCHlgglHHGpNbtngNrDvBDpfQDBQfZDfWZVrr ['w', 's', 's', 's', 'm', 'm', 'R', 'T', 'f'] ['f', 'f', 'f', 'Q', 'Q', 'v', 'Q', 'Q', 'Z', 'Z', 'D', 'D', 'D', 'D', 'Z', 'Z', 'Q', 'Q', 'B', 'B', 'Q', 'Q', 'W', 'B', 'B']\n",
      "GSJcJSjsjTpsvWGWBHLLvVVBBBrFrzVz cWTSlJWlcplJdDTdGdpDlGcGgqmtwwZtqRrNRRmRdNZqmgNq LQPPrCPnMZwqtRMn ['G', 'G', 'G', 'S', 'J', 'J', 'c', 'c', 'c', 'J', 'J', 'S', 'T', 'T', 'p', 'p', 'W', 'W', 'G', 'G', 'G', 'W', 'W', 'r', 'r'] ['q', 't', 'w', 'w', 'Z', 't', 'q', 'R', 'r', 'R', 'R', 'R', 'Z', 'q', 'q']\n",
      "dnBgnDqQvwRnSnnFMFMP fwzlBBqghqvzqqlDrHbpHjZHmGZbLZrHLb NVPCSPMNDSNFVSWCsJJJmpGmZZGLLcpZLHGGtsHt ['B', 'B', 'g', 'D', 'q', 'q', 'q', 'q', 'v', 'w'] ['D', 'H', 'H', 'p', 'p', 'H', 'H', 'Z', 'Z', 'Z', 'H', 'H', 'm', 'm', 'G', 'G', 'G', 'G', 'Z', 'Z', 'Z', 'L', 'L', 'L', 'Z', 'Z', 'Z', 'H', 'H', 'L', 'L', 'L']\n",
      "TfQJMfLphMhJdfdzpQJRTPbwHHNlgbGwsTGgCP phhZVzdpVfQZphhZpRhSVnjmrcvvnrWtDrvWDS BCbPsFFwCRHmDSBmWnvDDj ['f', 'Q', 'f', 'p', 'p', 'p', 'p', 'h', 'h', 'h', 'h', 'h', 'h', 'h', 'h', 'h', 'h', 'd', 'f', 'd', 'z', 'p', 'p', 'p', 'p', 'Q', 'R'] ['R', 'S', 'n', 'j', 'm', 'm', 'v', 'v', 'n', 'W', 'D', 'D', 'D', 'v', 'W', 'D', 'D', 'D', 'S']\n",
      "bzSmJbfCZCbzLwllflwqtvvw jSgrScrbGZSGrrCGsFVMssFsPPFcDDMV ttWLlnnvnNnBBtlTqWlpvpndQdZsQQFssFDdsRFdVdRNFQ ['b', 'S', 'S', 'S', 'b', 'C', 'Z', 'C', 'b'] ['Z', 's', 's', 's', 's', 'F', 'F', 'F', 'F', 'V', 's', 's', 's', 's', 's', 's', 's', 's', 'F', 'F', 'F', 'F', 's', 's', 's', 's', 'F', 'F', 'F', 'F', 'D', 'D', 'V']\n",
      "vssCgVgCsggZQZCgsnsqWgWvfJPDLwffwTPPmzTnjTPmPmwJ gqlhWQgsZMsvqMlMMvsvqsNlLbcdppbrRpdbbcSrrbbr zmFTJwFLPmzLztmjDzTJwfNrdFNrFppBSNRGNGdbrpBR ['v', 'v', 'v', 's', 's', 's', 's', 's', 's', 's', 's', 'g', 'g', 'g', 'g', 's', 's', 's', 's', 'g', 'g', 'g', 'g', 'Z', 'Q', 'Z', 'g', 'g', 's', 's', 's', 's', 's', 's', 's', 's', 'q', 'q', 'q', 'W', 'g', 'g', 'W', 'v', 'v', 'v', 'L'] ['N', 'N', 'N', 'N', 'L', 'L', 'b', 'd', 'd', 'p', 'p', 'p', 'p', 'p', 'p', 'b', 'r', 'r', 'r', 'R', 'R', 'p', 'p', 'p', 'd', 'd', 'b', 'b', 'S', 'r', 'r', 'r', 'r', 'r', 'r', 'b', 'b', 'r', 'r', 'r']\n",
      "ZlhtCtffCdWcZWZVVT tGlfvGhfnbDlbqlChnfFMrwsmwNssTMHMHjFwv SpcRTPQLBLWpNNzjmmwwwRrR ['l', 'l', 'l', 'h', 'h', 't', 'C', 't', 'f', 'f', 'f', 'f', 'f', 'f', 'C', 'T'] ['r', 'w', 'w', 'w', 'm', 'm', 'w', 'w', 'w', 'N', 'N', 'T', 'j', 'w', 'w', 'w']\n",
      "ZBBwLvqbBZsRsbVsZSqbcZdJjHHjhfPCJfJfHhgc BwRRbFvtvvQmJJFMpMJr jTTCcWHWJNgCGTzTmnzrmnGn ['B', 'B', 'w', 'v', 'v', 'v', 'b', 'B', 'R', 'R', 'b', 'b', 'J', 'J', 'J', 'J', 'J', 'J', 'J', 'J', 'J'] ['m', 'm', 'J', 'J', 'J', 'r']\n",
      "tHsMhwPVctccHFHFcbSDbbPjnNbBnbvBQB zcJzmcFcHGfdGmWTVd VrnDSvvrLrfTdTLGfdRp ['H', 'V', 'c', 'c', 'c', 'c', 'c', 'c', 'c', 'c', 'c', 'H', 'F', 'H', 'F', 'c', 'c', 'c'] ['G', 'f', 'f', 'd', 'd', 'G', 'T', 'T', 'V', 'd', 'd']\n",
      "DcclzbcbPbJLnNTfnw pDqcmmRPHqgVBddjvN QttWQwLTnLnWTtnffnLQSBFVjNvBjBFNgMdCsVWsjv ['D', 'c', 'c', 'c', 'P', 'N'] ['g', 'V', 'V', 'B', 'B', 'B', 'd', 'd', 'j', 'j', 'j', 'v', 'v', 'N', 'N']\n",
      "wSHVnfHfWwwHWFVfSnfgmmRsslFZZDBBGZsZsDTdGRTp SrfrwSjSVrSjwbmSrHzmHJCQQPQzqttNNQJMzJtqMW plRcpsZDGlGZvWvMCNcLtttq ['w', 'w', 'S', 'S', 'S', 'S', 'S', 'H', 'H', 'V', 'f', 'H', 'H', 'f', 'W', 'w', 'w', 'w', 'w', 'H', 'H', 'W', 'V', 'f', 'S', 'S', 'S', 'S', 'S', 'f', 'm', 'm', 'm', 'm'] ['C', 'q', 't', 't', 't', 't', 't', 't', 'N', 'N', 'M', 't', 't', 't', 'q', 'M', 'W']\n",
      "DnJTZwmnZRhnpqNdWt VTmjVJLTwlTmwTVmsMJMVlJmPvcbvvbCBbGBPjGvBbBGWcbb qSFQSgQNgQBrBHHcrW ['J', 'J', 'J', 'T', 'T', 'T', 'T', 'w', 'w', 'm', 'm', 'm', 'm', 'W'] ['c', 'B', 'B', 'B', 'B', 'B', 'B', 'B', 'B', 'W', 'c']\n",
      "lmqzzzngGmlNNBqGllzlBNRvptHHpTCHpDLpgDZdgvHvDD FnqrnmzzFllmsWwtsFtQMMFc dTVHjZLLZDVCfVHtLDDjQbscjWbSJMJPjsbWWb ['l', 'l', 'm', 'm', 'q', 'z', 'z', 'z', 'z', 'z', 'z', 'n', 'n', 'm', 'm', 'l', 'l', 'q', 'l', 'l', 'l', 'l', 'z', 'z', 'l', 'l', 't', 't'] ['s', 's', 'W', 'W', 'W', 't', 's', 's', 't', 'Q', 'M', 'M', 'c']\n",
      "ghpJgqqjCZbQdZpd BBJDzFVgCDrCJrqDJJhqJVVMLPHwcctFwcWHHGLcwGwGHnWc sdRZQbCfZTSTdlfTZCffccWPHPPcPPwLwctRnLWn ['g', 'h', 'J', 'J', 'J', 'J', 'J', 'g', 'q', 'q', 'q', 'q', 'C', 'C'] ['C', 'C', 'C', 'C', 'L', 'L', 'P', 'P', 'P', 'P', 'P', 'H', 'w', 'w', 'c', 'c', 'c', 'c', 'c', 'c', 'c', 'c', 't', 'w', 'w', 'c', 'c', 'c', 'c', 'W', 'W', 'H', 'H', 'L', 'L', 'c', 'c', 'c', 'c', 'w', 'w', 'w', 'w', 'H', 'n', 'n', 'W', 'W', 'c', 'c', 'c', 'c']\n",
      "nQTjTnMndlTdQFMvnrClCnpzmzDtbbmBbcPSzzlmmtzP jfvdvRTffQQrrFCRFTnGwJRqNRZVpJGZLZggLh tbcpzbHSszcHBgqHGZgJJJhhww ['n', 'Q', 'Q', 'T', 'T', 'j', 'T', 'T', 'n', 'n', 'd', 'T', 'T', 'd', 'Q', 'Q', 'F', 'F', 'v', 'v', 'n', 'r', 'r', 'C', 'C', 'n', 'p'] ['G', 'w', 'w', 'J', 'J', 'J', 'q', 'Z', 'p', 'J', 'J', 'J', 'G', 'Z', 'Z', 'g', 'g', 'g', 'g', 'h', 'h']\n",
      "VQfWjfLFGWLjdFfVzTZZpJTpnmlTrSQlBl WWPGVPLtzVgWtjWPGzVjzVGcbDhPsRbDcsbJwNRswRDRss BqBqTCSTcqHsJHHM ['V', 'V', 'V', 'V', 'W', 'W', 'W', 'W', 'j', 'j', 'L', 'G', 'G', 'G', 'W', 'W', 'W', 'W', 'L', 'j', 'j', 'V', 'V', 'V', 'V', 'z', 'z', 'z', 'J'] ['c', 's', 'c', 's', 'J', 's', 's', 's']\n",
      "zznfFWwMfMfFMwVTMQFnQjhjgjSZhCNbLSTcHHgbbC MvnVFzWMwMVWzfnVDwfBMfnnrCtdtPmPlRrdrJCJrtPDrrPD jLNsZjqSHCsGdsmpsm ['z', 'z', 'z', 'z', 'n', 'n', 'n', 'n', 'f', 'f', 'f', 'F', 'W', 'W', 'w', 'w', 'M', 'M', 'M', 'M', 'f', 'f', 'f', 'M', 'M', 'M', 'M', 'f', 'f', 'f', 'F', 'M', 'M', 'M', 'M', 'w', 'w', 'V', 'V', 'V', 'M', 'M', 'M', 'M', 'F', 'n', 'n', 'n', 'n', 'C', 'C', 'C', 'C'] ['C', 'd', 'm', 'm', 'd', 'C']\n",
      "HHqqCBhHSSpdmjGqmGjtjtjj FdhfhhcCDhHLfzclZMcrwcQMZM GGtssttVmvnnGNMQrrVzgwVrCWMz ['H', 'H', 'C', 'h', 'h', 'h', 'h', 'H', 'd'] ['C', 'z', 'z', 'M', 'M', 'r', 'r', 'r', 'w', 'Q', 'M', 'M', 'M', 'M']\n",
      "JPcFfFWjFHJVVsVjPVscsDlLNRHGDbLRMRCDNrCGbG FsJjJBfnsJcFcFfjVPjWBzldqhqnlZZZzzhmnSvSnm bbQLtGMQQtQRQtrDtGprrrbCqwplZhhqSqmdwvdzqqqhSmpS ['J', 'J', 'J', 'P', 'c', 'c', 'F', 'F', 'F', 'f', 'f', 'F', 'F', 'F', 'W', 'j', 'j', 'j', 'F', 'F', 'F', 'J', 'J', 'J', 'V', 'V', 's', 's', 'V', 'j', 'j', 'j', 'P', 'V', 's', 's', 'c', 'c', 's', 's', 'l', 'l'] ['z', 'l', 'd', 'd', 'q', 'q', 'q', 'q', 'q', 'q', 'h', 'h', 'h', 'q', 'q', 'q', 'q', 'q', 'q', 'l', 'Z', 'Z', 'Z', 'z', 'z', 'h', 'h', 'h', 'm', 'm', 'S', 'S', 'S', 'v', 'S', 'S', 'S', 'm', 'm']\n",
      "QgbvzSFQmZQPQQRW CDLHbNSzzLFgHvnTjrswBNBTNT JdMdlMRJnTwdvcjv ['g', 'b', 'v', 'z', 'z', 'S', 'F'] ['v', 'v', 'n', 'T', 'j', 'w', 'T', 'T']\n",
      "cVPPQcvlWDNhrbPz FRbQlcvFvcRQQlRsMlRRRZjwCqMwjmjwJZdLJmjCZC NTBrNzrpjjjCwGbB ['c', 'c', 'Q', 'Q', 'Q', 'c', 'c', 'v', 'v', 'l', 'l', 'l', 'b'] ['b', 'j', 'j', 'j', 'w', 'C', 'w', 'j', 'j', 'j', 'j', 'j', 'j', 'w', 'j', 'j', 'j', 'C', 'C']\n",
      "cWncllnlPFWzcMwtWWtsVLVRmJWCds zplpnBnFpnrrlghGNpLNqHvqvjNj VdbVtbbZJdtJVVdDVZmTLqqTSQvNLjjDShhvSG ['n', 'n', 'n', 'l', 'l', 'l', 'l', 'n', 'n', 'n', 'l', 'l', 'F', 'z', 'L'] ['h', 'h', 'G', 'N', 'L', 'L', 'N', 'q', 'q', 'v', 'v', 'q', 'q', 'v', 'v', 'j', 'j', 'N', 'j', 'j']\n",
      "gNNMWGzNmqGdtfZTbGGb NmPMsssRrVwjDclHJwwR ShLSTnZnTSttTSbLQdfSZTMwcDHwwcHnJvDHnlnlclMM ['N', 'N', 'M', 'N', 'm'] ['M', 'M', 'M', 'w', 'w', 'w', 'D', 'D', 'c', 'c', 'c', 'l', 'l', 'l', 'H', 'H', 'H', 'J', 'w', 'w', 'w', 'w', 'w', 'w']\n",
      "bbFqvbDvvGGLGbCCtBGDLbLlcPNHhhccPNcdPPchlsdR brbbBTbbFbCbqqGgBTrCfmQVVZfSSQQSVtJZSrVZ sWNNlRHnmJtmntJt ['b', 'b', 'b', 'b', 'b', 'b', 'b', 'b', 'b', 'b', 'b', 'b', 'b', 'b', 'F', 'q', 'q', 'b', 'b', 'b', 'b', 'b', 'b', 'b', 'G', 'G', 'G', 'b', 'b', 'b', 'b', 'b', 'b', 'b', 'C', 'C', 'C', 'C', 't', 'B', 'B', 'G', 'b', 'b', 'b', 'b', 'b', 'b', 'b'] ['m', 'm', 't', 't', 't', 'J', 'J']\n",
      "RJRgpJHssgwSQHRqsQPGGjjtNCrrFvvnFjjPrP SQQQJHwpSgJSJHQWSWHqJWWbmcBBBLLTsmhhTcZbMhmlshcb DCFvDvnCnNfMBmMMslDZML ['J', 'J', 'J', 'J', 'g', 'p', 'J', 'J', 'J', 'J', 'H', 'H', 'H', 's', 's', 's', 's', 'g', 'w', 'S', 'S', 'S', 'S', 'Q', 'Q', 'Q', 'Q', 'H', 'H', 'H', 'q', 's', 's', 'Q', 'Q', 'Q', 'Q'] ['m', 'B', 'B', 'B', 'L', 'L', 's', 'm', 'Z', 'M', 'M', 'M', 'M', 'm', 'l', 's']\n",
      "VSmNrmmbBfZVlsrssrLTRhRhTn GNNBVqVGNZbbNbNqqZQVNVNbWcpdtMCcpCtMWCdCPpQccmpp mThmsgjzTPjMpcvtWP ['V', 'V', 'V', 'V', 'm', 'N', 'N', 'N', 'N', 'N', 'N', 'N', 'm', 'm', 'b', 'b', 'b', 'b', 'B', 'Z', 'Z', 'V', 'V', 'V', 'V'] ['W', 'c', 'p', 't', 'M', 'c', 'p', 't', 'M', 'W', 'P', 'P', 'p', 'c', 'c', 'm', 'm', 'p', 'p']\n",
      "BPBVqqrQPsQqwrrmmmJdRLDDqFRplT GrrMsPVGcQHBGMbhjjSgWfHHDbjb TdmCvLDCpTRNTdFbbWnnSWCfhjbbzn ['B', 'P', 'B', 'V', 'r', 'r', 'Q', 'P', 's', 'Q', 'r', 'r', 'r', 'r', 'D', 'D'] ['b', 'b', 'b', 'b', 'h', 'j', 'j', 'S', 'W', 'W', 'f', 'D', 'b', 'b', 'b', 'b', 'j', 'b', 'b', 'b', 'b']\n",
      "sMBmGBmbNvLHGMnrDppTcJmcjpqljf HsLZgMGbgBBsNzMvGbdVtVQzFRQSthhFPdtP fpDDJljDlCfDTjprjrfbddWthCSCtdPPQFhSSSWW ['s', 's', 'M', 'M', 'B', 'B', 'G', 'G', 'B', 'B', 'b', 'b', 'N', 'v', 'L', 'H', 'G', 'G', 'M', 'M'] ['b', 'b', 'd', 'd', 'd', 't', 't', 'Q', 'F', 'Q', 'S', 'S', 'S', 'S', 't', 't', 'h', 'h', 'h', 'h', 'F', 'P', 'P', 'd', 'd', 'd', 't', 't', 'P', 'P']\n",
      "vmCPLCgwvwdnCzmvLbpTbVQqJJPbJPpTVq zRLRRRjvvgjHMMsMpWpc ptSpSJQqpbNGGDDhcMWrlNHcZZWWls ['v', 'v', 'L', 'g', 'v', 'v', 'z', 'v', 'v', 'L', 'p', 'p', 'p', 'p'] ['H', 'M', 'M', 's', 'M', 'p', 'p', 'p', 'W', 'W', 'W', 'p', 'p', 'p', 'c', 'c']\n",
      "msbRjbpPqsRpHnlZrmJlnVHT GPSGjjpLslBbpLpLqqqPDvdwvwvNzQWGzDDNdzGN TJCfhhJVFffrJJQQllNWcvWhwvWD ['s', 'b', 'j', 'j', 'b', 'p', 'p', 'p', 'P', 'P', 'q', 'q', 'q', 's', 'p', 'p', 'p', 'l', 'l'] ['l', 'l', 'D', 'v', 'v', 'w', 'v', 'v', 'w', 'v', 'v', 'N', 'Q', 'Q', 'W', 'W', 'W', 'D', 'D', 'N', 'N']\n",
      "ZlZZlBbRPGGTGfmRsD LBlwBHPSqjwwlVggHpnMZcVHMt GGfFsCCTvGDsfTTrhsCMMzptZJMdpdgtrpdMcV ['Z', 'l', 'l', 'Z', 'Z', 'l', 'l', 'B', 'B', 'P'] ['V', 'g', 'g', 'p', 'p', 'p', 'M', 'M', 'M', 'M', 'Z', 'c', 'V', 'M', 'M', 'M', 'M', 't', 't']\n",
      "pcqsmsplwsqclwRtRWgtRnPPvb MlSqWlmsmGBSHJHTDFHZ CtCjbVvzQQZTWVdd ['q', 's', 'm', 'm', 's', 'l', 'l', 's', 'q', 'l', 'l', 'W'] ['W', 'T', 'Z']\n",
      "MNBBBlSMvLVwTlVTFdNdhNhFsqsGDrzm VSVwVMgLHHLTwMDTMMVnbWPRZQRcRQPptWnpbZcb zCrzCrsdjrhGDCFqGDjRRPtpWfQQcpfQZcCZPp ['M', 'M', 'M', 'M', 'S', 'M', 'M', 'M', 'M', 'L', 'L', 'V', 'V', 'V', 'V', 'w', 'w', 'T', 'T', 'V', 'V', 'V', 'V', 'T', 'T', 'D'] ['D', 'D', 'W', 'P', 'P', 'R', 'R', 'Z', 'Z', 'Q', 'Q', 'Q', 'R', 'R', 'c', 'c', 'R', 'R', 'Q', 'Q', 'Q', 'P', 'P', 'p', 'p', 'p', 't', 'W', 'p', 'p', 'p', 'Z', 'Z', 'c', 'c']\n",
      "QnCgzzQbbQqPcPQnncbdQdnVTwDssZgrShBTVgZZsBSDHT qPPNCCbqcbcNqbqQjjJQqzjRpptmlpMGmMlJtftmtFHpMt rBLWTwTThWwVVDTwHBsZZWppvpGtpptppmRvFFFMFMfL ['Q', 'Q', 'C', 'C', 'z', 'z', 'Q', 'Q', 'b', 'b', 'b', 'b', 'b', 'b', 'Q', 'Q', 'q', 'q', 'q', 'q', 'q', 'P', 'P', 'c', 'c', 'P', 'P', 'Q', 'Q', 'c', 'c', 'b', 'b', 'b', 'Q', 'Q', 'H'] ['R', 'p', 'p', 'p', 'p', 'p', 'p', 'p', 'p', 'p', 'p', 'p', 'p', 'p', 'p', 't', 't', 'm', 'p', 'p', 'p', 'p', 'p', 'p', 'p', 'M', 'M', 'G', 'm', 'M', 'M', 't', 't', 'f', 't', 't', 'm', 't', 't', 'F', 'F', 'F', 'F', 'H', 'p', 'p', 'p', 'p', 'p', 'p', 'p', 'M', 'M', 't', 't']\n",
      "wsZHwZNvRRQsQqBV rclNHvcrzCNwrWRprjdMMMph PFGJFqnfqmPgFJQPWdbLdpDRhbphWjDm ['w', 'H', 'w', 'N', 'N', 'v', 'R', 'R'] ['W', 'W', 'R', 'p', 'p', 'j', 'd', 'd', 'p', 'p', 'h', 'h']\n",
      "wVzhbjmDbDrwjdbztFDDthMCvqPppZQBQLZQTqTvFTvZ VVtdwVtDDdVmhrdwSBmjbdzNHgfgJnNnsSnHsNffHgRsgR LqlGCPlPLTCPqqQlpqLlWfBfWgcHNRJRfWNsncGH ['w', 'w', 'V', 'V', 'V', 'V', 'z', 'h', 'b', 'j', 'm', 'm', 'D', 'D', 'b', 'D', 'D', 'r', 'w', 'w', 'j', 'd', 'd', 'd', 'd', 'b', 'z', 't', 't', 'D', 'D', 'D', 'D', 't', 't', 'h', 'B'] ['B', 'N', 'N', 'H', 'H', 'g', 'f', 'f', 'f', 'g', 'J', 'n', 'N', 'N', 'n', 's', 'n', 'H', 'H', 's', 'N', 'N', 'f', 'f', 'f', 'f', 'f', 'f', 'H', 'H', 'g', 'R', 'R', 's', 'g', 'R', 'R']\n",
      "vPzNvqjWhqFzGSnRGMDG ZlWvhvZjNrbNvqjNhlfPfqjCGHrsspggTpVLpsJCpcJVgg BnQnQFwRmRwmwdBSFDFnmSDVLCJTCTppVVmGLVTCLcgVpC ['v', 'v', 'v', 'P', 'N', 'N', 'N', 'v', 'v', 'v', 'q', 'q', 'j', 'j', 'j', 'W', 'h', 'h', 'q', 'q', 'G', 'G', 'G'] ['C', 'C', 'C', 'C', 'G', 'p', 'p', 'p', 'g', 'g', 'T', 'T', 'T', 'p', 'p', 'p', 'V', 'V', 'V', 'V', 'V', 'L', 'L', 'L', 'p', 'p', 'p', 'J', 'C', 'C', 'C', 'C', 'p', 'p', 'p', 'c', 'J', 'V', 'V', 'V', 'V', 'V', 'g', 'g']\n",
      "PrppdFlWWlfrWmpWFffrdcGjJJGggnnhZGdLLgGGndvz WmWpWWmPPWrmrmBmWrTlTFPNVqVCRSDCQHcqVTtTqsSDSTSD wZnMZzzZZchDRtVsqtCtwV ['P', 'P', 'P', 'r', 'r', 'r', 'p', 'p', 'F', 'l', 'W', 'W', 'W', 'W', 'W', 'W', 'W', 'W', 'W', 'W', 'W', 'W', 'l', 'r', 'r', 'r', 'W', 'W', 'W', 'W', 'W', 'W', 'm', 'm', 'm', 'm', 'm', 'p', 'W', 'W', 'W', 'W', 'W', 'W', 'F', 'r', 'r', 'r', 'c'] ['V', 'V', 'q', 'V', 'V', 'C', 'R', 'D', 'C', 'c', 'q', 'V', 'V', 't', 't', 't', 'q', 's', 'D', 'D']\n",
      "tzSVtzvSvGSRZqqFMNtpRR VTgzDTjwfffwzDvwlcczzVSJbQlBQSWBWCnPJPbJWWbC FShHNmNhRhNJmBnQBQJrmP ['z', 'z', 'z', 'z', 'S', 'S', 'V', 'V', 'z', 'z', 'z', 'z', 'v', 'S', 'S', 'v', 'S', 'S'] ['S', 'J', 'J', 'Q', 'Q', 'B', 'B', 'Q', 'Q', 'S', 'B', 'B', 'n', 'P', 'J', 'J', 'P', 'J', 'J']\n",
      "QsRbHllzzlHwHlBszWlTBFbpDPMhbPDVGpGFpPtFPp glwsSrQwBvLdgLzdcj hPZhGDZpnCGtDhznjmLmdJffdNzJ ['Q', 's', 'l', 'l', 'z', 'z', 'l', 'w', 'w', 'l', 'B', 's', 'z', 'l', 'B'] ['L', 'd', 'd', 'L', 'z', 'z', 'd', 'd', 'j']\n",
      "TGQZsTqFnQZCJTPsnJnZQMjVRBVtcVRSVRBlwccSCtBS QqTHGTPJmmHmhNmH SRjStRDctgDSBzLvPvNrDhmPLr ['T', 'T', 'G', 'Q', 'T', 'T', 'q', 'Q', 'J', 'T', 'T', 'P', 'J', 'Q'] ['P', 'P', 'm', 'm', 'm', 'h', 'N', 'm']\n",
      "MJVpFMqgwMqRRbZsMbZMrP wFpzFgqVzqVJWFDwqJDmSBBmHBHhShLQhCGSBCGH bbsNsvsvnNPTRRllbblLqhtQCqQSLCGGHSqHNC ['J', 'J', 'V', 'V', 'p', 'F', 'F', 'F', 'q', 'q', 'q', 'g', 'w', 'w', 'q', 'q', 'q'] ['q', 'q', 'q', 'q', 'q', 'q', 'q', 'q', 'q', 'S', 'S', 'H', 'H', 'H', 'H', 'h', 'S', 'S', 'h', 'L', 'L', 'Q', 'Q', 'h', 'C', 'C', 'C', 'G', 'G', 'S', 'S', 'C', 'C', 'C', 'G', 'G', 'H', 'H']\n",
      "MRSMMlpTJRqClBCRqBDnzqgQPnqgznZPZqbP MMLCTRRLlLclTLRMRLCwMLHWVctbVVHWWWFfVjVGsFWW PPdDhvNDQdmgQPZmQVHHtHGGWVGbffWGvs ['M', 'M', 'M', 'M', 'R', 'R', 'R', 'R', 'M', 'M', 'M', 'M', 'M', 'M', 'M', 'M', 'l', 'l', 'T', 'T', 'R', 'R', 'R', 'R', 'C', 'C', 'l', 'l', 'C', 'C', 'R', 'R', 'R', 'R', 'b'] ['H', 'H', 'H', 'W', 'W', 'V', 'V', 't', 'b', 'V', 'V', 'V', 'V', 'H', 'H', 'H', 'W', 'W', 'W', 'W', 'W', 'W', 'f', 'f', 'V', 'V', 'V', 'V', 'G', 'G', 'G', 'G', 's', 'W', 'W', 'W', 'W']\n",
      "QVJbVmwwDQbzVTgbppNJNMWNjNNPrdpM QbDgSSQbgSDDmDVmlqSCRllRcFqnqfBl MrMNPNNpjvdprWtrpMsthqBfqlnfqcGhVBqFRcnqFG ['Q', 'Q', 'V', 'b', 'b', 'V', 'm', 'm', 'D', 'D', 'D', 'D', 'Q', 'Q', 'b', 'b', 'V', 'g', 'g', 'b', 'b'] ['V', 'l', 'q', 'q', 'q', 'q', 'q', 'R', 'l', 'l', 'R', 'c', 'c', 'F', 'F', 'q', 'q', 'q', 'q', 'q', 'n', 'n', 'q', 'q', 'q', 'q', 'q', 'f', 'f', 'B', 'B', 'l']\n",
      "jSqMmqRzMDDjvqlBqsBMBmmwGNJwJnwLNfbGwddswnJtJH vmmqlDvRvRfqBSrlzmmMjRBhcVhQVZhVghCQQQQTcTrPTP WwJJNbtHfpLpVgZZPVFhZh ['j', 'S', 'q', 'q', 'M', 'm', 'm', 'm', 'm', 'q', 'q', 'R', 'R', 'R', 'z', 'M', 'D', 'D', 'j', 'v', 'v', 'v', 'q', 'q', 'l', 'l', 'B', 'B', 'q', 'q', 'B', 'B', 'M', 'B', 'B', 'm', 'm', 'm', 'm', 'm', 'm', 'm', 'm', 'f'] ['f', 'h', 'h', 'V', 'V', 'h', 'h', 'V', 'V', 'Z', 'Z', 'Z', 'h', 'h', 'V', 'V', 'g', 'h', 'h', 'P', 'P']\n",
      "hfHrpphHBppfTvmzgMmbLbgf pDBrBHpHhlldphHBHhJVFSLnWWFJttCtQSttSS RLgRmRggbvbzzPmmRNmzsQWFtSGNtwSNQnntFwnnCw ['h', 'h', 'h', 'H', 'H', 'H', 'H', 'r', 'p', 'p', 'p', 'p', 'p', 'p', 'h', 'h', 'h', 'H', 'H', 'H', 'H', 'B', 'B', 'B', 'p', 'p', 'p', 'p', 'p', 'p', 'L'] ['F', 'F', 'S', 'S', 'L', 'n', 'n', 'n', 'n', 'W', 'W', 'F', 'F', 't', 't', 't', 't', 't', 't', 'C', 't', 't', 't', 'Q', 'Q', 'S', 'S', 't', 't', 't', 't', 't', 't', 'S', 'S', 'S', 'S']\n",
      "7824\n"
     ]
    }
   ],
   "source": [
    "def matching_letter(s1, s2):\n",
    "    s = []\n",
    "    for i in s1:\n",
    "        for j in s2:\n",
    "            if i==j:\n",
    "                s.append(i)\n",
    "    return s\n",
    "\n",
    "def get_priority(s):\n",
    "    if ord(s) in range(65,91): # upper case letters\n",
    "        return int(ord(s))-65+27\n",
    "    elif ord(s) in range(97,123): # lower case letters\n",
    "        return int(ord(s))-97+1\n",
    "    \n",
    "q3input = read_txt('q3input.txt')[0]\n",
    "a = 0\n",
    "b = 0\n",
    "for x, i in zip(q3input, range(len(q3input))):\n",
    "    s1 = x[:int(len(x)/2)]\n",
    "    s2 = x[int(len(x)/2):]\n",
    "    a += get_priority(matching_letter(s1,s2)[0])\n",
    "    if np.mod(i,3) == 2:\n",
    "        s1 = q3input[i]\n",
    "        s2 = q3input[i-1]\n",
    "        s3 = q3input[i-2]\n",
    "        print(s1, s2, s3, matching_letter(s1,s2), s3\n",
    "print(a)"
   ]
  },
  {
   "cell_type": "code",
   "execution_count": 154,
   "id": "9f7d6df3",
   "metadata": {},
   "outputs": [
    {
     "name": "stdout",
     "output_type": "stream",
     "text": [
      "STzBBbJzRRBZBRTq CCsfZLtNNLClCsfh Z\n"
     ]
    },
    {
     "data": {
      "text/plain": [
       "90"
      ]
     },
     "execution_count": 154,
     "metadata": {},
     "output_type": "execute_result"
    }
   ],
   "source": [
    "print(s1, s2, matching_letter(s1,s2))\n",
    "ord('Z')"
   ]
  }
 ],
 "metadata": {
  "kernelspec": {
   "display_name": "Python 3 (ipykernel)",
   "language": "python",
   "name": "python3"
  },
  "language_info": {
   "codemirror_mode": {
    "name": "ipython",
    "version": 3
   },
   "file_extension": ".py",
   "mimetype": "text/x-python",
   "name": "python",
   "nbconvert_exporter": "python",
   "pygments_lexer": "ipython3",
   "version": "3.9.13"
  }
 },
 "nbformat": 4,
 "nbformat_minor": 5
}
